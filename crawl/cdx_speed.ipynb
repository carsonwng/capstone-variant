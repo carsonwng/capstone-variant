{
 "cells": [
  {
   "cell_type": "code",
   "execution_count": 1,
   "metadata": {},
   "outputs": [],
   "source": [
    "import requests\n",
    "import time"
   ]
  },
  {
   "cell_type": "code",
   "execution_count": 8,
   "metadata": {},
   "outputs": [],
   "source": [
    "url = \"https://data.commoncrawl.org/crawl-data/CC-MAIN-2023-50/cc-index.paths.gz\""
   ]
  },
  {
   "cell_type": "code",
   "execution_count": 15,
   "metadata": {},
   "outputs": [
    {
     "name": "stdout",
     "output_type": "stream",
     "text": [
      "No chunking: 0.26039648056030273s\n"
     ]
    }
   ],
   "source": [
    "# no chunking\n",
    "s_time = time.time()\n",
    "\n",
    "with requests.get(url, stream=True) as r, open(\"cc-index.paths.gz\", \"wb\") as f:\n",
    "    f.write(r.content)\n",
    "\n",
    "e_time = time.time()\n",
    "\n",
    "print(f\"No chunking: {e_time - s_time}s\")"
   ]
  },
  {
   "cell_type": "code",
   "execution_count": 16,
   "metadata": {},
   "outputs": [
    {
     "name": "stdout",
     "output_type": "stream",
     "text": [
      "Chunking: 0.266282320022583s\n"
     ]
    }
   ],
   "source": [
    "# chunking\n",
    "s_time = time.time()\n",
    "\n",
    "with requests.get(url, stream=True) as r:\n",
    "    for chunk in r.iter_content(chunk_size=1024):\n",
    "        with open(\"cc-index.paths.gz\", \"wb\") as f:\n",
    "            f.write(chunk)\n",
    "\n",
    "e_time = time.time()\n",
    "\n",
    "print(f\"Chunking: {e_time - s_time}s\")"
   ]
  },
  {
   "cell_type": "code",
   "execution_count": 17,
   "metadata": {},
   "outputs": [],
   "source": [
    "import gzip\n",
    "\n",
    "with gzip.open(\"cc-index.paths.gz\", \"rb\") as f, open(\"cc-index.paths\", \"wb\") as f_out:\n",
    "    f_out.write(f.read())"
   ]
  }
 ],
 "metadata": {
  "kernelspec": {
   "display_name": "Python 3",
   "language": "python",
   "name": "python3"
  },
  "language_info": {
   "codemirror_mode": {
    "name": "ipython",
    "version": 3
   },
   "file_extension": ".py",
   "mimetype": "text/x-python",
   "name": "python",
   "nbconvert_exporter": "python",
   "pygments_lexer": "ipython3",
   "version": "3.11.6"
  }
 },
 "nbformat": 4,
 "nbformat_minor": 2
}
